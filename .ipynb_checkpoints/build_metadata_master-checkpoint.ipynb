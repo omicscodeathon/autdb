{
 "cells": [
  {
   "cell_type": "code",
   "execution_count": 4,
   "id": "da4726b3-3157-4540-ad4d-308b6787d57f",
   "metadata": {},
   "outputs": [
    {
     "name": "stderr",
     "output_type": "stream",
     "text": [
      "usage: ipykernel_launcher.py [-h] --root ROOT --ados ADOS --out OUT\n",
      "ipykernel_launcher.py: error: the following arguments are required: --root, --ados, --out\n"
     ]
    },
    {
     "ename": "SystemExit",
     "evalue": "2",
     "output_type": "error",
     "traceback": [
      "An exception has occurred, use %tb to see the full traceback.\n",
      "\u001b[1;31mSystemExit\u001b[0m\u001b[1;31m:\u001b[0m 2\n"
     ]
    },
    {
     "name": "stderr",
     "output_type": "stream",
     "text": [
      "C:\\Users\\rusla\\AppData\\Local\\Programs\\Python\\Python310\\lib\\site-packages\\IPython\\core\\interactiveshell.py:3587: UserWarning: To exit: use 'exit', 'quit', or Ctrl-D.\n",
      "  warn(\"To exit: use 'exit', 'quit', or Ctrl-D.\", stacklevel=1)\n"
     ]
    }
   ],
   "source": [
    "# build_metadata_master.py\n",
    "# -*- coding: utf-8 -*-\n",
    "\"\"\"\n",
    "Парсер для MMASD: собираем metadata_master.csv\n",
    "- Берём sample_id, participant_id, activity_class (по имени папки/файла)\n",
    "- Мерджим с ADOS_rating.xlsx (sex, age_years)\n",
    "- Никаких вычислений, только сбор известного\n",
    "\"\"\"\n",
    "\n",
    "import os\n",
    "import re\n",
    "import argparse\n",
    "import pandas as pd\n",
    "\n",
    "# ----- словарь префиксов активности -----\n",
    "ACTIVITY_MAP = {\n",
    "    \"as\": \"Arm Swing\",\n",
    "    \"bs\": \"Body Swing\",\n",
    "    \"ce\": \"Chest Expansion\",\n",
    "    \"sq\": \"Squat\",\n",
    "    \"dr\": \"Drumming\",\n",
    "    \"mfs\": \"Maracas Forward Shaking\",\n",
    "    \"ms\": \"Maracas Shaking\",\n",
    "    \"sac\": \"Sing and Clap\",\n",
    "    \"fg\": \"Frog Pose\",\n",
    "    \"tr\": \"Tree Pose\",\n",
    "    \"tw\": \"Twist Pose\",\n",
    "}\n",
    "\n",
    "SAMPLE_ID_RE = re.compile(r\"^([a-z]+)_([0-9]+)_\", re.IGNORECASE)\n",
    "\n",
    "def parse_sample(sample_id: str):\n",
    "    \"\"\"Извлекаем activity_prefix и participant_id из имени клипа\"\"\"\n",
    "    m = SAMPLE_ID_RE.match(sample_id)\n",
    "    if not m:\n",
    "        return \"\", \"\"\n",
    "    return m.group(1).lower(), m.group(2)\n",
    "\n",
    "def scan_openpose(root: str):\n",
    "    \"\"\"\n",
    "    Сканируем структуру 2D skeleton/output/\n",
    "    Возвращаем DataFrame с sample_id, participant_id, activity_class\n",
    "    \"\"\"\n",
    "    base_dir = os.path.join(root, \"2D skeleton\", \"output\")\n",
    "    rows = []\n",
    "\n",
    "    for activity_folder in os.listdir(base_dir):\n",
    "        activity_dir = os.path.join(base_dir, activity_folder)\n",
    "        if not os.path.isdir(activity_dir):\n",
    "            continue\n",
    "\n",
    "        for sample_id in os.listdir(activity_dir):\n",
    "            sample_path = os.path.join(activity_dir, sample_id)\n",
    "            if not os.path.isdir(sample_path):\n",
    "                continue\n",
    "\n",
    "            prefix, participant_id = parse_sample(sample_id)\n",
    "            activity_class = ACTIVITY_MAP.get(prefix, \"Unknown\")\n",
    "\n",
    "            rows.append({\n",
    "                \"sample_id\": sample_id,\n",
    "                \"participant_id\": participant_id,\n",
    "                \"activity_prefix\": prefix,\n",
    "                \"activity_class\": activity_class,\n",
    "                \"rel_path_openpose\": os.path.relpath(sample_path, root),\n",
    "            })\n",
    "\n",
    "    return pd.DataFrame(rows)\n",
    "\n",
    "def read_ados(ados_path: str):\n",
    "    \"\"\"Читаем ADOS_rating.xlsx и вытаскиваем sex и age_years\"\"\"\n",
    "    df = pd.read_excel(ados_path)\n",
    "    cols = {c.lower().replace(\" \", \"\").replace(\"_\",\"\"): c for c in df.columns}\n",
    "\n",
    "    pid_col = next((cols[c] for c in cols if \"id\" in c), None)\n",
    "    sex_col = next((cols[c] for c in cols if \"sex\" in c or \"gender\" in c), None)\n",
    "    age_col = next((cols[c] for c in cols if \"age\" in c), None)\n",
    "\n",
    "    out = pd.DataFrame()\n",
    "    if pid_col:\n",
    "        out[\"participant_id\"] = df[pid_col].astype(str).str.extract(r\"(\\d+)\")[0]\n",
    "    if sex_col:\n",
    "        out[\"sex\"] = df[sex_col]\n",
    "    if age_col:\n",
    "        out[\"age_years\"] = df[age_col]\n",
    "\n",
    "    return out.dropna(subset=[\"participant_id\"]).drop_duplicates(\"participant_id\")\n",
    "\n",
    "def main():\n",
    "    ap = argparse.ArgumentParser(description=\"Сбор metadata_master.csv (MMASD).\")\n",
    "    ap.add_argument(\"--root\", required=True, help=\"Путь к корневой папке MMASD\")\n",
    "    ap.add_argument(\"--ados\", required=True, help=\"Путь к ADOS_rating.xlsx\")\n",
    "    ap.add_argument(\"--out\", required=True, help=\"Куда сохранить metadata_master.csv\")\n",
    "    args = ap.parse_args()\n",
    "\n",
    "    # 1) парсим openpose\n",
    "    df_openpose = scan_openpose(args.root)\n",
    "\n",
    "    # 2) добавляем dataset колонку\n",
    "    df_openpose[\"dataset\"] = \"MMASD\"\n",
    "\n",
    "    # 3) подмерджим ADOS\n",
    "    ados = read_ados(args.ados)\n",
    "    df = df_openpose.merge(ados, on=\"participant_id\", how=\"left\")\n",
    "\n",
    "    # 4) сохраняем\n",
    "    os.makedirs(os.path.dirname(args.out), exist_ok=True)\n",
    "    df.to_csv(args.out, index=False, encoding=\"utf-8\")\n",
    "\n",
    "    print(f\"[OK] Сохранено {len(df)} строк в {args.out}\")\n",
    "\n",
    "if __name__ == \"__main__\":\n",
    "    main()\n"
   ]
  },
  {
   "cell_type": "code",
   "execution_count": 5,
   "id": "8aae6c48-6d2d-4c7a-91fc-81d8bda8fc01",
   "metadata": {},
   "outputs": [
    {
     "name": "stdout",
     "output_type": "stream",
     "text": [
      "1693\n"
     ]
    }
   ],
   "source": [
    "import pandas as pd\n",
    "df = pd.read_csv(\"data/metadata_master.csv\")\n",
    "print(len(df[\"sample_id\"].unique()))\n"
   ]
  },
  {
   "cell_type": "code",
   "execution_count": 6,
   "id": "4ee51704-2ea0-438b-abad-5ea6f4452429",
   "metadata": {},
   "outputs": [
    {
     "name": "stdout",
     "output_type": "stream",
     "text": [
      "Распределение по activity_class:\n",
      "activity_class\n",
      "Arm Swing                  105\n",
      "Body Swing                 119\n",
      "Chest Expansion            114\n",
      "Drumming                   545\n",
      "Frog Pose                  113\n",
      "Maracas Forward Shaking    103\n",
      "Maracas Shaking            130\n",
      "Sing and Clap              113\n",
      "Squat                      102\n",
      "Tree Pose                  129\n",
      "Twist Pose                 120\n",
      "Name: count, dtype: int64\n",
      "\n",
      "Общее количество строк: 1693\n",
      "Уникальных sample_id: 1693\n",
      "Уникальных participant_id: 32\n"
     ]
    }
   ],
   "source": [
    "import pandas as pd\n",
    "\n",
    "# Загружаем твою собранную таблицу\n",
    "df = pd.read_csv(\"data/metadata_master.csv\")\n",
    "\n",
    "# Считаем количество строк по каждому классу активности\n",
    "counts = df[\"activity_class\"].value_counts().sort_index()\n",
    "\n",
    "print(\"Распределение по activity_class:\")\n",
    "print(counts)\n",
    "\n",
    "print(\"\\nОбщее количество строк:\", len(df))\n",
    "print(\"Уникальных sample_id:\", df[\"sample_id\"].nunique())\n",
    "print(\"Уникальных participant_id:\", df[\"participant_id\"].nunique())\n"
   ]
  },
  {
   "cell_type": "code",
   "execution_count": null,
   "id": "c4bc3721-bb6b-4561-b5c5-d60b5b02e7fc",
   "metadata": {},
   "outputs": [],
   "source": []
  }
 ],
 "metadata": {
  "kernelspec": {
   "display_name": "Python 3 (ipykernel)",
   "language": "python",
   "name": "python3"
  },
  "language_info": {
   "codemirror_mode": {
    "name": "ipython",
    "version": 3
   },
   "file_extension": ".py",
   "mimetype": "text/x-python",
   "name": "python",
   "nbconvert_exporter": "python",
   "pygments_lexer": "ipython3",
   "version": "3.10.11"
  }
 },
 "nbformat": 4,
 "nbformat_minor": 5
}
