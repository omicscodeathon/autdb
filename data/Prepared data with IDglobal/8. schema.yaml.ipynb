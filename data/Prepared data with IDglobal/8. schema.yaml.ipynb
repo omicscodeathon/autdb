{
 "cells": [
  {
   "cell_type": "code",
   "execution_count": 1,
   "id": "3e18b35f-3ac1-4696-8464-7ff35d5c3217",
   "metadata": {},
   "outputs": [
    {
     "name": "stdout",
     "output_type": "stream",
     "text": [
      "Loaded: (1431, 20)\n",
      "Saved schema.yaml\n"
     ]
    }
   ],
   "source": [
    "import pandas as pd\n",
    "import yaml\n",
    "\n",
    "# 1. Load the table\n",
    "path = \"metadata_ml_ready_splits.xlsx\"\n",
    "df = pd.read_excel(path, sheet_name=0, dtype=\"object\")\n",
    "\n",
    "print(\"Loaded:\", df.shape)\n",
    "\n",
    "# 2. Build schema dictionary\n",
    "schema = {}\n",
    "\n",
    "for col in df.columns:\n",
    "    col_info = {}\n",
    "    # detect dtype\n",
    "    if col in [\"movement_intensity_raw\", \"movement_intensity_z\", \"age_years\", \"elapsed_time_sec_total\",\n",
    "               \"sus_total\", \"nasa_tlx_weighted\", \"nasa_tlx_unweighted\"]:\n",
    "        dtype = \"numeric\"\n",
    "    elif col in [\"movement_intensity_bin\", \"split_seed\", \"cv_fold_iid\", \"cv_fold_lodo\"]:\n",
    "        dtype = \"integer\"\n",
    "    else:\n",
    "        dtype = \"string\"\n",
    "\n",
    "    col_info[\"dtype\"] = dtype\n",
    "\n",
    "    # domain: unique values (for categoricals, limited to 20)\n",
    "    uniq = df[col].dropna().unique().tolist()\n",
    "    if dtype != \"numeric\" and len(uniq) <= 20:\n",
    "        col_info[\"domain\"] = sorted(list(map(str, uniq)))\n",
    "    elif dtype != \"numeric\":\n",
    "        col_info[\"domain\"] = f\"{len(uniq)} unique values\"\n",
    "\n",
    "    # description — minimal stub, can be expanded\n",
    "    descriptions = {\n",
    "        \"dataset\": \"Source dataset (MMASD or Engagnition)\",\n",
    "        \"sample_id\": \"Unique identifier for sample\",\n",
    "        \"participant_id\": \"Participant code (Pxx)\",\n",
    "        \"condition\": \"Experimental condition (Baseline, LPE, HPE, NA)\",\n",
    "        \"unit_level\": \"Granularity (session or block)\",\n",
    "        \"modality\": \"Signal modality (ACC, GSR, TMP, ENG, GAZE, PERF)\",\n",
    "        \"movement_intensity_raw\": \"Median raw movement intensity (numeric)\",\n",
    "        \"movement_intensity_z\": \"Robust z-score of movement intensity\",\n",
    "        \"movement_intensity_bin\": \"Binary proxy label: 1 if z>=0 else 0\",\n",
    "        \"engagement_level\": \"Categorical engagement level (if available)\",\n",
    "        \"sex\": \"Participant sex (M/F/unknown)\",\n",
    "        \"age_years\": \"Participant age in years\",\n",
    "        \"age_group\": \"Age group (child, teen, adult, unknown)\",\n",
    "        \"intervention_type\": \"Type of intervention (from Engagnition XLSX)\",\n",
    "        \"intervention_timestamps_raw\": \"Raw timestamps string\",\n",
    "        \"elapsed_time_sec_total\": \"Session total elapsed time (sec)\",\n",
    "        \"sus_total\": \"System Usability Scale score\",\n",
    "        \"nasa_tlx_weighted\": \"NASA-TLX weighted score\",\n",
    "        \"nasa_tlx_unweighted\": \"NASA-TLX unweighted score\",\n",
    "        \"split_seed\": \"Random seed used for split\",\n",
    "        \"split_iid\": \"Split assignment (train/val/test, IID strategy)\",\n",
    "        \"split_lodo\": \"Split assignment (train/val/test, LODO strategy)\",\n",
    "        \"cv_fold_iid\": \"Fold index (IID stratified group split)\",\n",
    "        \"cv_fold_lodo\": \"Fold index (LODO group split)\",\n",
    "        \"block_field\": \"Block column name (Engagnition only)\",\n",
    "        \"block_id\": \"Block identifier\"}\n",
    "    if col in descriptions:\n",
    "        col_info[\"description\"] = descriptions[col]\n",
    "\n",
    "    schema[col] = col_info\n",
    "\n",
    "# 3. Save schema.yaml\n",
    "with open(\"schema.yaml\", \"w\", encoding=\"utf-8\") as f:\n",
    "    yaml.dump(schema, f, allow_unicode=True, sort_keys=False)\n",
    "\n",
    "print(\"Saved schema.yaml\")\n"
   ]
  },
  {
   "cell_type": "code",
   "execution_count": null,
   "id": "5febefc8-0f31-4063-8db3-fef89746900d",
   "metadata": {},
   "outputs": [],
   "source": []
  }
 ],
 "metadata": {
  "kernelspec": {
   "display_name": "Python 3 (ipykernel)",
   "language": "python",
   "name": "python3"
  },
  "language_info": {
   "codemirror_mode": {
    "name": "ipython",
    "version": 3
   },
   "file_extension": ".py",
   "mimetype": "text/x-python",
   "name": "python",
   "nbconvert_exporter": "python",
   "pygments_lexer": "ipython3",
   "version": "3.10.11"
  }
 },
 "nbformat": 4,
 "nbformat_minor": 5
}
